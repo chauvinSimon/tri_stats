{
 "cells": [
  {
   "cell_type": "markdown",
   "id": "d29f9c02-fdf0-4a7c-a482-8f40a12e00fb",
   "metadata": {
    "id": "_hyYuvwWyH-B"
   },
   "source": [
    "This notebook comes from https://github.com/chauvinSimon/tri_stats."
   ]
  },
  {
   "cell_type": "markdown",
   "id": "_hyYuvwWyH-B",
   "metadata": {
    "id": "_hyYuvwWyH-B"
   },
   "source": [
    "## SETUP\n",
    "\n",
    "Only needed **once**:\n",
    "- [Create a Google account](https://accounts.google.com/signin). You can use your existing Google account if you already have one. However, since running this code requires storage and access to the account's Google Drive, it is recommended to create a dedicated account specifically for this project.\n",
    "- [Create a key for the World Triathlon API](https://apps.api.triathlon.org/register) and write it in the next cell. You can use the just created Google address for the registration.\n",
    "\n",
    "Needed **each time**:\n",
    "- Run the cells by clicking \"play\", on their left side. The first one starts the runtime and therefore may take a bit long."
   ]
  },
  {
   "cell_type": "code",
   "execution_count": null,
   "id": "_cKT56gyvvCm",
   "metadata": {
    "id": "_cKT56gyvvCm"
   },
   "outputs": [],
   "source": [
    "YOUR_API_KEY = \"WRITE YOUR OWN KEY HERE\"\n",
    "# YOUR_API_KEY = \"2649776ef9ece4c391003b521cbfce7a\"  # example only!"
   ]
  },
  {
   "cell_type": "code",
   "execution_count": null,
   "id": "563bc385-7730-4a16-9a72-e92b48a22533",
   "metadata": {
    "id": "563bc385-7730-4a16-9a72-e92b48a22533"
   },
   "outputs": [],
   "source": [
    "from pathlib import Path\n",
    "from google.colab import drive"
   ]
  },
  {
   "cell_type": "code",
   "execution_count": null,
   "id": "x4uEmmZiydNp",
   "metadata": {
    "id": "x4uEmmZiydNp"
   },
   "outputs": [],
   "source": [
    "drive_dir = Path(\"/content/drive\")\n",
    "drive_nb_dir = drive_dir / \"MyDrive/Colab Notebooks\"\n",
    "project_dir = drive_nb_dir / \"tri_stats\"\n",
    "\n",
    "repo_url = \"https://github.com/chauvinSimon/tri_stats.git\""
   ]
  },
  {
   "cell_type": "markdown",
   "id": "81540ff6-c00f-4b01-b758-040508a0e4a1",
   "metadata": {},
   "source": [
    "A pop-up window should open:\n",
    "> _\"Permit this notebook to access your Google Drive files?\"_\n",
    "\n",
    "You should:\n",
    "- Click `\"Connect to Google Drive\"`.\n",
    "- Select your Google account.\n",
    "- Click `Continue` on `Sign in to Google Drive for desktop`.\n",
    "- Click `Select all` on `Select what Google Drive for desktop can access`. _(you can revoke this grant in your Google setting, by looking for `Google Drive for desktop` in `Data from apps and services you use`)_.\n",
    "- Scroll down and validate with `Continue`."
   ]
  },
  {
   "cell_type": "code",
   "execution_count": null,
   "id": "zkEjjo1lshVn",
   "metadata": {
    "id": "zkEjjo1lshVn"
   },
   "outputs": [],
   "source": [
    "if not drive_dir.exists():\n",
    "  print(\"mounting drive\")\n",
    "  drive.mount('/content/drive')"
   ]
  },
  {
   "cell_type": "code",
   "execution_count": null,
   "id": "1f16cd7c-a419-46ad-8818-f0af576d1846",
   "metadata": {
    "id": "1f16cd7c-a419-46ad-8818-f0af576d1846"
   },
   "outputs": [],
   "source": [
    "if not project_dir.exists():\n",
    "    # Convert path to a string and quote it for bash commands. Against space in \"Colab Notebooks\"\n",
    "    quoted_project_dir = f'\"{project_dir}\"'\n",
    "    print(f\"cloning repo from: {repo_url}\")\n",
    "    !git clone {repo_url} {quoted_project_dir}"
   ]
  },
  {
   "cell_type": "code",
   "execution_count": null,
   "id": "24509b54-4db8-4d18-a730-c434b13b0bfc",
   "metadata": {
    "id": "24509b54-4db8-4d18-a730-c434b13b0bfc"
   },
   "outputs": [],
   "source": [
    "%cd {project_dir}\n",
    "!git status"
   ]
  },
  {
   "cell_type": "code",
   "execution_count": null,
   "id": "3579279a-1865-45ac-95aa-0e8cbc368c5d",
   "metadata": {},
   "outputs": [],
   "source": [
    "%cd {project_dir}\n",
    "!git pull origin main"
   ]
  },
  {
   "cell_type": "code",
   "execution_count": null,
   "id": "04g8QyVDu_l6",
   "metadata": {
    "id": "04g8QyVDu_l6"
   },
   "outputs": [],
   "source": [
    "%cd {project_dir}/scripts\n",
    "assert Path().resolve() == project_dir / \"scripts\"\n",
    "%ls"
   ]
  },
  {
   "cell_type": "code",
   "execution_count": null,
   "id": "skOjXoqAvGQ2",
   "metadata": {
    "id": "skOjXoqAvGQ2"
   },
   "outputs": [],
   "source": [
    "api_key_path = project_dir / \"api_key.txt\"\n",
    "if (not api_key_path.exists()) or (api_key_path.read_text() != YOUR_API_KEY):\n",
    "    print(f\"Writing key to local file: {YOUR_API_KEY}\")\n",
    "    api_key_path.write_text(YOUR_API_KEY)"
   ]
  },
  {
   "cell_type": "markdown",
   "id": "uCHtw-0SyBvo",
   "metadata": {
    "id": "uCHtw-0SyBvo"
   },
   "source": [
    "## USAGE\n",
    "\n",
    "At this point, you are ready to:\n",
    "- Collect data from the World Triathlon API.\n",
    "- Process and clean it up.\n",
    "- Format it to a table.\n",
    "- Export it to a csv file."
   ]
  },
  {
   "cell_type": "code",
   "execution_count": null,
   "id": "5QDPw5VqyrqJ",
   "metadata": {
    "id": "5QDPw5VqyrqJ"
   },
   "outputs": [],
   "source": [
    "from utils import load_config\n",
    "from utils_events import get_events_df"
   ]
  },
  {
   "cell_type": "code",
   "execution_count": null,
   "id": "qS3nr-3M1CGN",
   "metadata": {
    "id": "qS3nr-3M1CGN"
   },
   "outputs": [],
   "source": [
    "export_dir = project_dir / \"ignored\" / \"exports\"\n",
    "export_dir.mkdir(parents=True, exist_ok=True)"
   ]
  },
  {
   "cell_type": "code",
   "execution_count": null,
   "id": "34KCUTs50xr9",
   "metadata": {
    "id": "34KCUTs50xr9"
   },
   "outputs": [],
   "source": [
    "config = load_config()\n",
    "events_config = config[\"events\"]"
   ]
  },
  {
   "cell_type": "code",
   "execution_count": null,
   "id": "b88jOuRQ0XXd",
   "metadata": {
    "id": "b88jOuRQ0XXd"
   },
   "outputs": [],
   "source": [
    "# just for quick test: querying a narrow range of dates\n",
    "events_config[\"query\"][\"start_date\"] = \"2024-05-01\"\n",
    "events_config[\"query\"][\"end_date\"] = \"2024-05-31\""
   ]
  },
  {
   "cell_type": "markdown",
   "id": "0253fb8b-ee23-4f51-a68e-caff399eb707",
   "metadata": {},
   "source": [
    "The next cell makes requests to the API.\n",
    "- It takes time the first time.\n",
    "- It is much faster then, because the results of the requests are saved."
   ]
  },
  {
   "cell_type": "code",
   "execution_count": null,
   "id": "519f955a-aeb2-4121-94b0-7a04f3299a4b",
   "metadata": {
    "id": "519f955a-aeb2-4121-94b0-7a04f3299a4b"
   },
   "outputs": [],
   "source": [
    "df = get_events_df(events_config)"
   ]
  },
  {
   "cell_type": "markdown",
   "id": "0750656d-8b3a-43fa-92f5-e8811e980937",
   "metadata": {},
   "source": [
    "The next cell shows the created table (or a section of it)."
   ]
  },
  {
   "cell_type": "code",
   "execution_count": null,
   "id": "OVPU9z6YzoES",
   "metadata": {
    "id": "OVPU9z6YzoES"
   },
   "outputs": [],
   "source": [
    "df"
   ]
  },
  {
   "cell_type": "code",
   "execution_count": null,
   "id": "0eea1a5d-eb01-4e75-931c-d25d5613093c",
   "metadata": {},
   "outputs": [],
   "source": [
    "list(df.columns)"
   ]
  },
  {
   "cell_type": "markdown",
   "id": "5916950b-550e-42e8-8f51-71ba03970c50",
   "metadata": {
    "id": "EMXq1yLQ0B8s"
   },
   "source": [
    "Example to apply filters:"
   ]
  },
  {
   "cell_type": "code",
   "execution_count": null,
   "id": "6dd1b380-eb39-474b-8598-eaa68af9f8cf",
   "metadata": {},
   "outputs": [],
   "source": [
    "df[\n",
    "    (df[\"event_category\"] == \"wcs\") &\n",
    "    df[\"wetsuit_w\"] &\n",
    "    ~df[\"wetsuit_m\"]\n",
    "][[\"event_title\", \"prog_distance_category\", \"wetsuit_w\", \"wetsuit_m\", \"swim_all_w\", \"swim_all_m\", \"swim_diff_percent\"]]"
   ]
  },
  {
   "cell_type": "code",
   "execution_count": null,
   "id": "4ea32f7b-46e8-49ea-9e1d-6490961b0ff2",
   "metadata": {},
   "outputs": [],
   "source": []
  },
  {
   "cell_type": "markdown",
   "id": "7edb7036-ab51-4f54-81fc-3af96316d858",
   "metadata": {
    "id": "zbDsFR1s1nz7"
   },
   "source": [
    "## EXPORT TABLE\n",
    "\n",
    "The next cell saves the table (`df`) to your Drive:\n",
    "- Go to https://drive.google.com/drive/my-drive.\n",
    "- You should find the saved .csv under `My Drive / Colab Notebooks / tri_stats / ignored / exported`.\n",
    "- You may need to refresh the page.\n",
    "- Before downloading the .csv, you can have a look: `Open with` -> `Google Sheets`."
   ]
  },
  {
   "cell_type": "code",
   "execution_count": null,
   "id": "b9a6e717-442c-4fe8-8118-f74e97fa2f53",
   "metadata": {},
   "outputs": [],
   "source": [
    "df.to_csv(export_dir / \"events.csv\")"
   ]
  },
  {
   "cell_type": "code",
   "execution_count": null,
   "id": "5f0d4ff3-dff9-49b1-b873-bc12d31aec85",
   "metadata": {},
   "outputs": [],
   "source": []
  },
  {
   "cell_type": "markdown",
   "id": "9d9628de-c49e-49e7-9216-da786ef05a31",
   "metadata": {},
   "source": [
    "## QUIT\n",
    "\n",
    "- Press `ctrl+s` to save the changes of the notebook.\n",
    "- Next time, you can open the notebook directly at https://drive.google.com/drive/my-drive, under `My Drive / Colab Notebooks / Copy of main.ipynb`."
   ]
  }
 ],
 "metadata": {
  "colab": {
   "provenance": [
    {
     "file_id": "https://github.com/chauvinSimon/tri_stats/blob/main/notebooks/draft1.ipynb",
     "timestamp": 1731923634476
    }
   ]
  },
  "kernelspec": {
   "display_name": "Python 3 (ipykernel)",
   "language": "python",
   "name": "python3"
  },
  "language_info": {
   "codemirror_mode": {
    "name": "ipython",
    "version": 3
   },
   "file_extension": ".py",
   "mimetype": "text/x-python",
   "name": "python",
   "nbconvert_exporter": "python",
   "pygments_lexer": "ipython3",
   "version": "3.8.17"
  }
 },
 "nbformat": 4,
 "nbformat_minor": 5
}
