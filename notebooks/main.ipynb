{
 "cells": [
  {
   "cell_type": "markdown",
   "id": "_hyYuvwWyH-B",
   "metadata": {
    "id": "_hyYuvwWyH-B"
   },
   "source": [
    "# SETUP\n",
    "\n",
    "Only needed once:\n",
    "- [Create a google account](https://accounts.google.com/signin). Of course you can use your existing one, if you already have one. But because running this code needs storage and requires granting access to the drive, it is strongly recommended to create a dedicated account.\n",
    "- Create a key for the World Triathlon API: https://apps.api.triathlon.org/register and write it in the next cell. You can use the just created google address for the registration.\n",
    "\n",
    "Needed each time:\n",
    "- Run the cells by clicking \"play\", on their left side."
   ]
  },
  {
   "cell_type": "code",
   "execution_count": null,
   "id": "_cKT56gyvvCm",
   "metadata": {
    "id": "_cKT56gyvvCm"
   },
   "outputs": [],
   "source": [
    "YOUR_API_KEY = \"WRITE YOUR OWN KEY HERE\"\n",
    "# YOUR_API_KEY = \"2649776ef9ece4c391003b521cbfce7a\"  # example only!"
   ]
  },
  {
   "cell_type": "code",
   "execution_count": null,
   "id": "563bc385-7730-4a16-9a72-e92b48a22533",
   "metadata": {
    "id": "563bc385-7730-4a16-9a72-e92b48a22533"
   },
   "outputs": [],
   "source": [
    "from pathlib import Path\n",
    "from google.colab import drive"
   ]
  },
  {
   "cell_type": "code",
   "execution_count": null,
   "id": "x4uEmmZiydNp",
   "metadata": {
    "id": "x4uEmmZiydNp"
   },
   "outputs": [],
   "source": [
    "drive_dir = Path(\"/content/drive\")\n",
    "drive_nb_dir = drive_dir / \"MyDrive/Colab Notebooks\"\n",
    "project_dir = drive_nb_dir / \"tri_stats\"\n",
    "\n",
    "repo_url = \"https://github.com/chauvinSimon/tri_stats.git\""
   ]
  },
  {
   "cell_type": "code",
   "execution_count": null,
   "id": "zkEjjo1lshVn",
   "metadata": {
    "id": "zkEjjo1lshVn"
   },
   "outputs": [],
   "source": [
    "if not drive_dir.exists():\n",
    "  print(\"mounting drive\")\n",
    "  drive.mount('/content/drive')"
   ]
  },
  {
   "cell_type": "code",
   "execution_count": null,
   "id": "1f16cd7c-a419-46ad-8818-f0af576d1846",
   "metadata": {
    "id": "1f16cd7c-a419-46ad-8818-f0af576d1846"
   },
   "outputs": [],
   "source": [
    "if not project_dir.exists():\n",
    "    # Convert path to a string and quote it for bash commands. Against space in \"Colab Notebooks\"\n",
    "    quoted_project_dir = f'\"{project_dir}\"'\n",
    "    print(f\"cloning repo from: {repo_url}\")\n",
    "    !git clone {repo_url} {quoted_project_dir}"
   ]
  },
  {
   "cell_type": "code",
   "execution_count": null,
   "id": "WTTcDud31zIE",
   "metadata": {
    "id": "WTTcDud31zIE"
   },
   "outputs": [],
   "source": [
    "!git status"
   ]
  },
  {
   "cell_type": "code",
   "execution_count": null,
   "id": "24509b54-4db8-4d18-a730-c434b13b0bfc",
   "metadata": {
    "id": "24509b54-4db8-4d18-a730-c434b13b0bfc"
   },
   "outputs": [],
   "source": [
    "%cd {project_dir}\n",
    "!git pull origin main"
   ]
  },
  {
   "cell_type": "code",
   "execution_count": null,
   "id": "04g8QyVDu_l6",
   "metadata": {
    "id": "04g8QyVDu_l6"
   },
   "outputs": [],
   "source": [
    "%cd {project_dir}/scripts\n",
    "assert Path().resolve() == project_dir / \"scripts\"\n",
    "%ls"
   ]
  },
  {
   "cell_type": "code",
   "execution_count": null,
   "id": "skOjXoqAvGQ2",
   "metadata": {
    "id": "skOjXoqAvGQ2"
   },
   "outputs": [],
   "source": [
    "api_key_path = project_dir / \"api_key.txt\"\n",
    "if not api_key_path.exists():\n",
    "    print(f\"writing key to local file: {YOUR_API_KEY}\")\n",
    "    api_key_path.write_text(YOUR_API_KEY)"
   ]
  },
  {
   "cell_type": "markdown",
   "id": "uCHtw-0SyBvo",
   "metadata": {
    "id": "uCHtw-0SyBvo"
   },
   "source": [
    "# USAGE\n",
    "\n",
    "At this point, the project is ready to be used!"
   ]
  },
  {
   "cell_type": "code",
   "execution_count": null,
   "id": "5QDPw5VqyrqJ",
   "metadata": {
    "id": "5QDPw5VqyrqJ"
   },
   "outputs": [],
   "source": [
    "from utils import load_config\n",
    "from utils_events import get_events_df"
   ]
  },
  {
   "cell_type": "code",
   "execution_count": null,
   "id": "qS3nr-3M1CGN",
   "metadata": {
    "id": "qS3nr-3M1CGN"
   },
   "outputs": [],
   "source": [
    "export_dir = project_dir / \"ignored\" / \"exports\"\n",
    "export_dir.mkdir(parents=True, exist_ok=True)"
   ]
  },
  {
   "cell_type": "code",
   "execution_count": null,
   "id": "34KCUTs50xr9",
   "metadata": {
    "id": "34KCUTs50xr9"
   },
   "outputs": [],
   "source": [
    "config = load_config()"
   ]
  },
  {
   "cell_type": "code",
   "execution_count": null,
   "id": "b88jOuRQ0XXd",
   "metadata": {
    "id": "b88jOuRQ0XXd"
   },
   "outputs": [],
   "source": [
    "# just for quick test: querying a narrow range of dates\n",
    "config[\"events\"][\"query\"][\"start_date\"] = \"2024-07-01\"\n",
    "config[\"events\"][\"query\"][\"end_date\"] = \"2024-07-31\""
   ]
  },
  {
   "cell_type": "code",
   "execution_count": null,
   "id": "519f955a-aeb2-4121-94b0-7a04f3299a4b",
   "metadata": {
    "id": "519f955a-aeb2-4121-94b0-7a04f3299a4b"
   },
   "outputs": [],
   "source": [
    "df = get_events_df(config)"
   ]
  },
  {
   "cell_type": "code",
   "execution_count": null,
   "id": "OVPU9z6YzoES",
   "metadata": {
    "id": "OVPU9z6YzoES"
   },
   "outputs": [],
   "source": [
    "df"
   ]
  },
  {
   "cell_type": "code",
   "execution_count": null,
   "id": "EMXq1yLQ0B8s",
   "metadata": {
    "id": "EMXq1yLQ0B8s"
   },
   "outputs": [],
   "source": [
    "df.to_csv(export_dir / \"events.csv\")"
   ]
  },
  {
   "cell_type": "code",
   "execution_count": null,
   "id": "zbDsFR1s1nz7",
   "metadata": {
    "id": "zbDsFR1s1nz7"
   },
   "outputs": [],
   "source": []
  }
 ],
 "metadata": {
  "colab": {
   "provenance": [
    {
     "file_id": "https://github.com/chauvinSimon/tri_stats/blob/main/notebooks/draft1.ipynb",
     "timestamp": 1731923634476
    }
   ]
  },
  "kernelspec": {
   "display_name": "Python 3 (ipykernel)",
   "language": "python",
   "name": "python3"
  },
  "language_info": {
   "codemirror_mode": {
    "name": "ipython",
    "version": 3
   },
   "file_extension": ".py",
   "mimetype": "text/x-python",
   "name": "python",
   "nbconvert_exporter": "python",
   "pygments_lexer": "ipython3",
   "version": "3.8.17"
  }
 },
 "nbformat": 4,
 "nbformat_minor": 5
}
