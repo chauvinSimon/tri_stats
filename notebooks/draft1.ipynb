{
 "cells": [
  {
   "cell_type": "code",
   "execution_count": null,
   "id": "350d3590-b3b0-48e0-9f52-4024d846e524",
   "metadata": {
    "editable": true,
    "slideshow": {
     "slide_type": ""
    },
    "tags": []
   },
   "outputs": [],
   "source": [
    "print(\"hello world\")"
   ]
  },
  {
   "cell_type": "code",
   "execution_count": null,
   "id": "563bc385-7730-4a16-9a72-e92b48a22533",
   "metadata": {},
   "outputs": [],
   "source": [
    "from pathlib import Path\n",
    "Path().absolute()\n",
    "\n",
    "# todo: check if tri_stats has already been cloned"
   ]
  },
  {
   "cell_type": "code",
   "execution_count": null,
   "id": "1f16cd7c-a419-46ad-8818-f0af576d1846",
   "metadata": {},
   "outputs": [],
   "source": [
    "# Clone the GitHub Repository\n",
    "!git clone https://github.com/chauvinSimon/tri_stats.git\n",
    "%cd tri_stats\n",
    "\n",
    "# Pull the latest changes (if the repo was cloned earlier)\n",
    "!git pull origin main"
   ]
  },
  {
   "cell_type": "code",
   "execution_count": null,
   "id": "24509b54-4db8-4d18-a730-c434b13b0bfc",
   "metadata": {},
   "outputs": [],
   "source": [
    "%cd scripts"
   ]
  },
  {
   "cell_type": "code",
   "execution_count": null,
   "id": "613a395b-44f0-4659-8f68-5219b1392ffe",
   "metadata": {},
   "outputs": [],
   "source": [
    "from utils_events import get_events_df"
   ]
  },
  {
   "cell_type": "code",
   "execution_count": null,
   "id": "519f955a-aeb2-4121-94b0-7a04f3299a4b",
   "metadata": {},
   "outputs": [],
   "source": [
    "df = get_events_df()"
   ]
  }
 ],
 "metadata": {
  "kernelspec": {
   "display_name": "Python 3 (ipykernel)",
   "language": "python",
   "name": "python3"
  },
  "language_info": {
   "codemirror_mode": {
    "name": "ipython",
    "version": 3
   },
   "file_extension": ".py",
   "mimetype": "text/x-python",
   "name": "python",
   "nbconvert_exporter": "python",
   "pygments_lexer": "ipython3",
   "version": "3.8.17"
  }
 },
 "nbformat": 4,
 "nbformat_minor": 5
}
